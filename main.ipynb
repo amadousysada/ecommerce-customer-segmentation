{
  "nbformat": 4,
  "nbformat_minor": 0,
  "metadata": {
    "colab": {
      "provenance": [],
      "authorship_tag": "ABX9TyO7s3lEpTNaYl8kHpnGIzws",
      "include_colab_link": true
    },
    "kernelspec": {
      "name": "python3",
      "display_name": "Python 3"
    },
    "language_info": {
      "name": "python"
    }
  },
  "cells": [
    {
      "cell_type": "markdown",
      "metadata": {
        "id": "view-in-github",
        "colab_type": "text"
      },
      "source": [
        "<a href=\"https://colab.research.google.com/github/amadousysada/ecommerce-customer-segmentation/blob/main/main.ipynb\" target=\"_parent\"><img src=\"https://colab.research.google.com/assets/colab-badge.svg\" alt=\"Open In Colab\"/></a>"
      ]
    },
    {
      "cell_type": "markdown",
      "source": [
        "# Requêtes SQL pour le Dashboard\n",
        "\n",
        "* En excluant les commandes annulées, quelles sont les commandes\n",
        "récentes de moins de 3 mois que les clients ont reçues avec au moins 3\n",
        "jours de retard ?\n",
        "\n",
        "* Qui sont les vendeurs ayant généré un chiffre d'affaires de plus de 100\n",
        "000 Real sur des commandes livrées via Olist ?\n",
        "\n",
        "* Qui sont les nouveaux vendeurs (moins de 3 mois d'ancienneté) qui\n",
        "sont déjà très engagés avec la plateforme (ayant déjà vendu plus de 30\n",
        "produits) ?\n",
        "\n",
        "* Question : Quels sont les 5 codes postaux, enregistrant plus de 30\n",
        "reviews, avec le pire review score moyen sur les 12 derniers mois ?"
      ],
      "metadata": {
        "id": "Tyen6S1k2z2c"
      }
    },
    {
      "cell_type": "code",
      "execution_count": null,
      "metadata": {
        "id": "Bci9tB7J0u8n"
      },
      "outputs": [],
      "source": []
    }
  ]
}