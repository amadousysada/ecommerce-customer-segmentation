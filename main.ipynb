{
  "nbformat": 4,
  "nbformat_minor": 0,
  "metadata": {
    "colab": {
      "provenance": [],
      "mount_file_id": "https://github.com/amadousysada/ecommerce-customer-segmentation/blob/main/main.ipynb",
      "authorship_tag": "ABX9TyMqP0t/TJiiaOYJa6J7c4aX",
      "include_colab_link": true
    },
    "kernelspec": {
      "name": "python3",
      "display_name": "Python 3"
    },
    "language_info": {
      "name": "python"
    }
  },
  "cells": [
    {
      "cell_type": "markdown",
      "metadata": {
        "id": "view-in-github",
        "colab_type": "text"
      },
      "source": [
        "<a href=\"https://colab.research.google.com/github/amadousysada/ecommerce-customer-segmentation/blob/main/main.ipynb\" target=\"_parent\"><img src=\"https://colab.research.google.com/assets/colab-badge.svg\" alt=\"Open In Colab\"/></a>"
      ]
    },
    {
      "cell_type": "code",
      "source": [
        "import pandas as pd\n",
        "from sqlite3 import connect"
      ],
      "metadata": {
        "id": "HbbR3mnh4Hg-"
      },
      "execution_count": 5,
      "outputs": []
    },
    {
      "cell_type": "markdown",
      "source": [
        "# Requêtes SQL pour le Dashboard\n",
        "\n",
        "* En excluant les commandes annulées, quelles sont les commandes\n",
        "récentes de moins de 3 mois que les clients ont reçues avec au moins 3\n",
        "jours de retard ?\n",
        "\n",
        "* Qui sont les vendeurs ayant généré un chiffre d'affaires de plus de 100\n",
        "000 Real sur des commandes livrées via Olist ?\n",
        "\n",
        "* Qui sont les nouveaux vendeurs (moins de 3 mois d'ancienneté) qui\n",
        "sont déjà très engagés avec la plateforme (ayant déjà vendu plus de 30\n",
        "produits) ?\n",
        "\n",
        "* Question : Quels sont les 5 codes postaux, enregistrant plus de 30\n",
        "reviews, avec le pire review score moyen sur les 12 derniers mois ?"
      ],
      "metadata": {
        "id": "Tyen6S1k2z2c"
      }
    },
    {
      "cell_type": "code",
      "source": [
        "folder_path = \"/content/drive/MyDrive/data/\" # A ajuster selon le chemin où se trouve votre fichier .db"
      ],
      "metadata": {
        "id": "8BWTCwku-U_C"
      },
      "execution_count": 3,
      "outputs": []
    },
    {
      "cell_type": "code",
      "execution_count": 8,
      "metadata": {
        "id": "Bci9tB7J0u8n"
      },
      "outputs": [],
      "source": [
        "db_path = f\"{folder_path}olist.db\"\n",
        "conn = connect(db_path)\n",
        "cur = conn.cursor()"
      ]
    },
    {
      "cell_type": "code",
      "source": [
        "cur"
      ],
      "metadata": {
        "id": "iLS831qa-w8P",
        "outputId": "892abce8-892a-4103-cb64-eb157f9ef556",
        "colab": {
          "base_uri": "https://localhost:8080/"
        }
      },
      "execution_count": 9,
      "outputs": [
        {
          "output_type": "execute_result",
          "data": {
            "text/plain": [
              "<sqlite3.Cursor at 0x7d89c1132fc0>"
            ]
          },
          "metadata": {},
          "execution_count": 9
        }
      ]
    },
    {
      "cell_type": "markdown",
      "source": [
        "## En excluant les commandes annulées, quelles sont les commandes récentes de moins de 3 mois que les clients ont reçues avec au moins 3 jours de retard ?"
      ],
      "metadata": {
        "id": "VLNy3fKh_Bej"
      }
    },
    {
      "cell_type": "code",
      "source": [],
      "metadata": {
        "id": "GMI_zUy9_Iev"
      },
      "execution_count": null,
      "outputs": []
    }
  ]
}